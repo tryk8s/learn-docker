{
 "cells": [
  {
   "cell_type": "markdown",
   "metadata": {},
   "source": [
    "# Docker镜像\n",
    "\n",
    "在Docker基础中，我们学习了如何控制容器。但是所有的容器都是从最基础的Ubuntu模板中创建的，并不能提供特定功能。为了方便用户使用，Docker官方以及爱好者，已经将各种软件打包成了容器镜像，接下来我们将学习如何使用镜像。\n",
    "\n",
    "## 拉取镜像\n",
    "\n",
    "[https://hub.docker.com/](https://hub.docker.com/) 是官方提供的镜像仓库，在这里可以找到非常多的开源软件。[nginx](https://hub.docker.com/_/nginx/)是我们将使用的案例。\n",
    "\n",
    "首先让我们从官方镜像仓库中拉取nginx镜像。"
   ]
  },
  {
   "cell_type": "code",
   "execution_count": null,
   "metadata": {
    "collapsed": true
   },
   "outputs": [],
   "source": [
    "!docker pull nginx"
   ]
  },
  {
   "cell_type": "markdown",
   "metadata": {},
   "source": [
    "## 获取本地镜像列表\n",
    "\n",
    "让我们来检查一下刚才的 `pull` 指令是否成功"
   ]
  },
  {
   "cell_type": "code",
   "execution_count": null,
   "metadata": {
    "collapsed": true
   },
   "outputs": [],
   "source": [
    "!docker images"
   ]
  },
  {
   "cell_type": "markdown",
   "metadata": {},
   "source": [
    "可以看到，`nginx` 镜像已经成功的被拉取到了本地\n",
    "\n",
    "## 通过镜像创建容器\n",
    "\n",
    "让我们使用镜像来创建一个nginx服务器"
   ]
  },
  {
   "cell_type": "code",
   "execution_count": null,
   "metadata": {
    "collapsed": true
   },
   "outputs": [],
   "source": [
    "!docker run --name=nginx -d nginx"
   ]
  },
  {
   "cell_type": "markdown",
   "metadata": {},
   "source": [
    "在上述指令中，我们使用 `docker run` 以 `nginx` 镜像为模板，创建了一个后台运行的容器。`--name=nginx` 的作用是将容器的名称设为 `nginx` 这样后续的指令都可以使用这个名称来操作这个刚刚创建的容器。"
   ]
  },
  {
   "cell_type": "code",
   "execution_count": null,
   "metadata": {
    "collapsed": true
   },
   "outputs": [],
   "source": [
    "!docker ps"
   ]
  },
  {
   "cell_type": "markdown",
   "metadata": {},
   "source": [
    "可以看到nginx容器已经在后台运行起来了。\n",
    "\n",
    "接下来让我们来试着访问一下这个nginx服务器。\n",
    "\n",
    "首先，运行下面的指令"
   ]
  },
  {
   "cell_type": "code",
   "execution_count": null,
   "metadata": {
    "collapsed": false
   },
   "outputs": [],
   "source": [
    "!docker inspect nginx"
   ]
  },
  {
   "cell_type": "markdown",
   "metadata": {},
   "source": [
    "`docker inspect` 指令的作用是获取指定容器的详细状态，在返回结果的 `IPAddress` 字段中，我们可以得到这个容器的ip地址。\n",
    "\n",
    "让我们来试着访问一下这个地址上的服务器，请将下面指令中的 `$IP` 替换为上面得到的ip地址。"
   ]
  },
  {
   "cell_type": "code",
   "execution_count": null,
   "metadata": {
    "collapsed": true
   },
   "outputs": [],
   "source": [
    "!curl http://$IP"
   ]
  },
  {
   "cell_type": "markdown",
   "metadata": {},
   "source": [
    "可以看到默认的nginx网站页面，说明nginx服务器已经正常运行起来了。\n",
    "\n",
    "## 创建镜像\n",
    "\n",
    "我们学习使用Docker，主要的目标就是用它来运行自己的程序。接下来我们将用一个简单的案例来演示如何创建新的镜像。\n",
    "\n",
    "首先创建一个文件叫做 `Dockerfile` ，这里我们已经创建好了，下面的指令将显示文件的内容"
   ]
  },
  {
   "cell_type": "code",
   "execution_count": null,
   "metadata": {
    "collapsed": true
   },
   "outputs": [],
   "source": [
    "!cat Dockerfile"
   ]
  },
  {
   "cell_type": "markdown",
   "metadata": {},
   "source": [
    "简单解释一下各行的含义。\n",
    "\n",
    "`FROM nginx` 表示使用 `nginx` 镜像作为基础镜像。\n",
    "\n",
    "`ADD index.html /usr/share/nginx/html/index.html` 表示将本地的 `index.html` 文件放入镜像，存放在 `/usr/share/nginx/html/index.html` 这将替换默认的 `nginx` 首页。\n",
    "\n",
    "`RUN echo world >> /usr/share/nginx/html/index.html` 表示以上一步的镜像为基础，运行指定程序，将运行结果的状态创建为新的镜像。\n",
    "\n",
    "让我们来看看 `index.html` 文件中的内容"
   ]
  },
  {
   "cell_type": "code",
   "execution_count": null,
   "metadata": {
    "collapsed": true
   },
   "outputs": [],
   "source": [
    "!cat index.html"
   ]
  },
  {
   "cell_type": "markdown",
   "metadata": {},
   "source": [
    "所以这个镜像的作用是将 `nginx` 镜像的默认首页替换为 `hello world`。\n",
    "\n",
    "接下来，我们将当前目录发送给Docker，让它生成我们的镜像"
   ]
  },
  {
   "cell_type": "code",
   "execution_count": null,
   "metadata": {
    "collapsed": true
   },
   "outputs": [],
   "source": [
    "!docker build -t hello ."
   ]
  },
  {
   "cell_type": "markdown",
   "metadata": {},
   "source": [
    "`docker build` 是用于创建镜像的指令，`-t hello` 告知Docker将新建的镜像打上名为 `hello` 的标签， 最后的 `.` 表示将当前目录发往Docker，也可以指向其他的路径。\n",
    "\n",
    "镜像创建好之后，我们可以用新的镜像创建容器"
   ]
  },
  {
   "cell_type": "code",
   "execution_count": null,
   "metadata": {
    "collapsed": true
   },
   "outputs": [],
   "source": [
    "!docker run --name=hello -d hello"
   ]
  },
  {
   "cell_type": "markdown",
   "metadata": {},
   "source": [
    "再取得容器的ip地址"
   ]
  },
  {
   "cell_type": "code",
   "execution_count": null,
   "metadata": {
    "collapsed": true
   },
   "outputs": [],
   "source": [
    "!docker inspect hello"
   ]
  },
  {
   "cell_type": "markdown",
   "metadata": {},
   "source": [
    "以及访问容器内的nginx服务"
   ]
  },
  {
   "cell_type": "code",
   "execution_count": null,
   "metadata": {
    "collapsed": true
   },
   "outputs": [],
   "source": [
    "!curl http://$IP"
   ]
  },
  {
   "cell_type": "markdown",
   "metadata": {},
   "source": [
    "在这个例子中，我们学习了如何使用 `ADD` 和 `RUN` 这两个 `Dockerfile` 中的指令来基于某一个基础镜像创建了自定义的镜像。`Dockerfile` 还支持更多的指令，可以参考 [官方文档](https://docs.docker.com/engine/reference/builder/) 中的说明。\n",
    "\n",
    "## 推送镜像到镜像仓库\n",
    "\n",
    "首先我们为镜像打上包含仓库地址的标签"
   ]
  },
  {
   "cell_type": "code",
   "execution_count": null,
   "metadata": {
    "collapsed": true
   },
   "outputs": [],
   "source": [
    "!docker tag hello localhost:5000/hello"
   ]
  },
  {
   "cell_type": "markdown",
   "metadata": {},
   "source": [
    "上述指令当中的 `localhost:5000` 是本地运行的镜像仓库地址。\n",
    "\n",
    "然后使用 `docker push` 指令将镜像推送到仓库中去"
   ]
  },
  {
   "cell_type": "code",
   "execution_count": null,
   "metadata": {
    "collapsed": true
   },
   "outputs": [],
   "source": [
    "!docker push localhost:5000/hello"
   ]
  },
  {
   "cell_type": "markdown",
   "metadata": {},
   "source": [
    "设想你有多台Docker，这时你就可以在其他服务器上使用 `docker pull` 指令拉取这个镜像，用它启动新的容器了。\n",
    "\n",
    "## 删除镜像\n",
    "\n",
    "当我们不再需要某一个镜像时，我们可以将它从本地删除。\n",
    "\n",
    "首先停止和删除所有使用这一镜像的容器"
   ]
  },
  {
   "cell_type": "code",
   "execution_count": null,
   "metadata": {
    "collapsed": true
   },
   "outputs": [],
   "source": [
    "!docker stop hello"
   ]
  },
  {
   "cell_type": "code",
   "execution_count": null,
   "metadata": {
    "collapsed": true
   },
   "outputs": [],
   "source": [
    "!docker rm hello"
   ]
  },
  {
   "cell_type": "markdown",
   "metadata": {},
   "source": [
    "再执行删除镜像指令"
   ]
  },
  {
   "cell_type": "code",
   "execution_count": null,
   "metadata": {
    "collapsed": true
   },
   "outputs": [],
   "source": [
    "!docker rmi hello"
   ]
  },
  {
   "cell_type": "markdown",
   "metadata": {},
   "source": [
    "删除成功后，再次获取镜像清单进行验证"
   ]
  },
  {
   "cell_type": "code",
   "execution_count": null,
   "metadata": {
    "collapsed": true
   },
   "outputs": [],
   "source": [
    "!docker images"
   ]
  },
  {
   "cell_type": "markdown",
   "metadata": {},
   "source": [
    "可以看到，我们刚才创建的 `hello` 镜像已经从清单中消失了。\n",
    "\n",
    "## 总结\n",
    "\n",
    "通过刚才的实验，我们完成了\n",
    "\n",
    "- 从镜像仓库中拉取镜像\n",
    "- 在本地创建新的镜像\n",
    "- 将镜像推送到镜像仓库\n",
    "- 删除镜像\n"
   ]
  }
 ],
 "metadata": {
  "kernelspec": {
   "display_name": "Python 3",
   "language": "python",
   "name": "python3"
  },
  "language_info": {
   "codemirror_mode": {
    "name": "ipython",
    "version": 3
   },
   "file_extension": ".py",
   "mimetype": "text/x-python",
   "name": "python",
   "nbconvert_exporter": "python",
   "pygments_lexer": "ipython3",
   "version": "3.4.3"
  }
 },
 "nbformat": 4,
 "nbformat_minor": 0
}
