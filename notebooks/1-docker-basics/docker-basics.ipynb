{
 "cells": [
  {
   "cell_type": "markdown",
   "metadata": {},
   "source": [
    "# Docker基础\n",
    "\n",
    "Docker是运行和管理容器的工具。容器对许多刚刚接触Docker的人来说是比较陌生的概念，让我们在使用Docker的过程中加深对容器的理解。\n",
    "\n",
    "## Hello World\n",
    "\n",
    "首先让我们来执行一段命令\n"
   ]
  },
  {
   "cell_type": "code",
   "execution_count": null,
   "metadata": {
    "collapsed": false
   },
   "outputs": [],
   "source": [
    "!docker run ubuntu /bin/echo 'Hello world'"
   ]
  },
  {
   "cell_type": "markdown",
   "metadata": {},
   "source": [
    "恭喜你，你刚刚启动了你的第一个容器。\n",
    "\n",
    "让我们来看看刚刚发生了什么。\n",
    "\n",
    "`docker run` 是用来启动容器的指令。\n",
    "\n",
    "紧跟在后面的 `ubuntu` 是告诉Docker使用哪一个镜像来创建容器。这里的镜像跟虚拟机中的镜像概念接近。这里我们使用了Ubuntu操作系统的镜像。\n",
    "\n",
    "最后的 `/bin/echo 'Hello world'` 告诉Docker在容器中运行的程序是什么。\n",
    "\n",
    "也许你会注意到，第一次运行上一条命令时并不会立即返回 `Hello world` 而是首先会经过一个拉取镜像的过程。这是因为Docker在本地没有找到Ubuntu镜像，转而从Docker的公开镜像仓库中拉取镜像。\n",
    "\n",
    "如果你再次执行上一条命令，将会立即返回 `Hello world` ，因为Ubuntu镜像在本地已经存在，Docker会直接使用它启动新的容器，在当中运行目标程序，并将结果返回给用户。整个过程和体验，跟直接在当前系统中运行相应的指令是一致的。\n",
    "\n",
    "## 后台运行\n",
    "\n",
    "除了在容器中运行一段程序然后退出以外，我们还可以让容器中的程序在后台运行，就跟平常运行在服务器上的后端程序一样。\n",
    "\n",
    "让我们来看看下面这个例子"
   ]
  },
  {
   "cell_type": "code",
   "execution_count": null,
   "metadata": {
    "collapsed": false
   },
   "outputs": [],
   "source": [
    "!docker run -d ubuntu /bin/sh -c \"while true; do echo hello world; sleep 1; done\""
   ]
  },
  {
   "cell_type": "markdown",
   "metadata": {},
   "source": [
    "跟前面的例子不同的是，这次我们加入了 `-d` 这个参数，告诉Docker在后台运行这个容器。跟前面的例子Docker直接返回 `Hello world` 不同，Docker返回了一串64位的16进制编码。这个编码是后台运行的容器的id，我们将在后面的例子中使用这个id。\n",
    "\n",
    "## 查看容器清单\n",
    "\n",
    "让我们来看看上一个例子中的容器是否正在运行"
   ]
  },
  {
   "cell_type": "code",
   "execution_count": null,
   "metadata": {
    "collapsed": false
   },
   "outputs": [],
   "source": [
    "!docker ps"
   ]
  },
  {
   "cell_type": "markdown",
   "metadata": {},
   "source": [
    "可以在结果中看到我们刚才在后台运行的容器，但是在 `CONTAINER ID` 这一栏中，只包含了前面容器id的前12位。这个12位的id和前面64位的id，在使用过程中是等效的，是为了使用方便设计的id缩写。在最后一栏 `NAMES` 中是系统自动生成或者用户设定的容器名称，我们也可以在任何需要使用容器id的地方使用这个名称。\n",
    "\n",
    "再来试试列举所有容器清单"
   ]
  },
  {
   "cell_type": "code",
   "execution_count": null,
   "metadata": {
    "collapsed": false
   },
   "outputs": [],
   "source": [
    "!docker ps -a"
   ]
  },
  {
   "cell_type": "markdown",
   "metadata": {},
   "source": [
    "通过在最后增加 `-a` 这个参数，我们列举了包含已经停止的容器在内的所有容器。可以在当中发现我们第一个例子所创建的容器。\n",
    "\n",
    "## 查看容器日志\n",
    "\n",
    "接下来我们试试查看指定容器的运行日志，请将下面指令的 `$CONTAINER_ID` 替换为我们刚才创建的后台运行容器的id"
   ]
  },
  {
   "cell_type": "code",
   "execution_count": null,
   "metadata": {
    "collapsed": true
   },
   "outputs": [],
   "source": [
    "!docker logs $CONTAINER_ID"
   ]
  },
  {
   "cell_type": "markdown",
   "metadata": {},
   "source": [
    "可以看到多行的 `hello world` ，说明后台容器运行正常\n",
    "\n",
    "## 停止容器\n",
    "\n",
    "我们可以使用 `docker stop` 指令来停止指定容器，请将下面指令的 $CONTAINER_ID 替换为我们刚才创建的后台运行容器的id"
   ]
  },
  {
   "cell_type": "code",
   "execution_count": null,
   "metadata": {
    "collapsed": true
   },
   "outputs": [],
   "source": [
    "!docker stop $CONTAINER_ID"
   ]
  },
  {
   "cell_type": "markdown",
   "metadata": {},
   "source": [
    "再用 `docker ps` 来看看它是否已经正常停止"
   ]
  },
  {
   "cell_type": "code",
   "execution_count": null,
   "metadata": {
    "collapsed": true
   },
   "outputs": [],
   "source": [
    "!docker ps"
   ]
  },
  {
   "cell_type": "markdown",
   "metadata": {},
   "source": [
    "可以看到，我们创建的后台容器已经从正在运行的容器清单中消失，说明容器已经停止运行。\n",
    "\n",
    "## 启动容器\n",
    "\n",
    "和停止容器相反， `docker start` 指令可以用来启动一个已经停止的容器，让我们来试试。同样请将下面指令的 $CONTAINER_ID 替换为我们刚才创建的后台运行容器的id。"
   ]
  },
  {
   "cell_type": "code",
   "execution_count": null,
   "metadata": {
    "collapsed": true
   },
   "outputs": [],
   "source": [
    "!docker start $CONTAINER_ID"
   ]
  },
  {
   "cell_type": "markdown",
   "metadata": {},
   "source": [
    "再次确认一下"
   ]
  },
  {
   "cell_type": "code",
   "execution_count": null,
   "metadata": {
    "collapsed": true
   },
   "outputs": [],
   "source": [
    "!docker ps"
   ]
  },
  {
   "cell_type": "markdown",
   "metadata": {},
   "source": [
    "可以看到容器已经恢复运行\n",
    "\n",
    "## 销毁容器\n",
    "\n",
    "首先停止容器"
   ]
  },
  {
   "cell_type": "code",
   "execution_count": null,
   "metadata": {
    "collapsed": true
   },
   "outputs": [],
   "source": [
    "!docker stop $CONTAINER_ID"
   ]
  },
  {
   "cell_type": "markdown",
   "metadata": {},
   "source": [
    "再运行 `docker rm` 指令来销毁容器"
   ]
  },
  {
   "cell_type": "code",
   "execution_count": null,
   "metadata": {
    "collapsed": true
   },
   "outputs": [],
   "source": [
    "!docker rm $CONTAINER_ID"
   ]
  },
  {
   "cell_type": "markdown",
   "metadata": {},
   "source": [
    "最后确认容器确实已经被销毁"
   ]
  },
  {
   "cell_type": "code",
   "execution_count": null,
   "metadata": {
    "collapsed": true
   },
   "outputs": [],
   "source": [
    "!docker ps -a"
   ]
  },
  {
   "cell_type": "markdown",
   "metadata": {},
   "source": [
    "我们刚才创建的容器已经从所有容器清单中消失，说明容器已经被彻底销毁。\n",
    "\n",
    "## 创建可交互容器\n",
    "\n",
    "在上面例子当中我们创建的两个容器均是直接在容器中运行指定的程序。有的时候我们需要一个和虚拟机更加接近的隔离环境，用来做一些实验性质的操作。Docker也可以办到。\n",
    "\n",
    "请在 `Terminal` 中运行下面的指令\n",
    "\n",
    "```\n",
    "$ docker run -i -t ubuntu /bin/bash\n",
    "```\n",
    "\n",
    "我们将进入容器内部的shell环境当中。上述指令当中的 `-i` 告诉Docker我们将通过STDID与容器进行交互，而 `-t` 告诉Docker在容器内部创建一个terminal用于交互。\n",
    "\n",
    "这个时候我们可以运行常用的Linux指令，比如 `pwd`、`ls` 和 `ps`，来确认我们确实进入了容器的隔离环境当中。\n",
    "\n",
    "当使用完毕后，可以用 `exit` 退出容器，这时容器将自动停止。\n",
    "\n",
    "## 总结\n",
    "\n",
    "通过刚才的实验，我们完成了\n",
    "\n",
    " - 创建3种不同类型的容器\n",
    " - 获得容器列表\n",
    " - 停止、启动和销毁容器"
   ]
  }
 ],
 "metadata": {
  "kernelspec": {
   "display_name": "Python 3",
   "language": "python",
   "name": "python3"
  },
  "language_info": {
   "codemirror_mode": {
    "name": "ipython",
    "version": 3
   },
   "file_extension": ".py",
   "mimetype": "text/x-python",
   "name": "python",
   "nbconvert_exporter": "python",
   "pygments_lexer": "ipython3",
   "version": "3.4.3"
  }
 },
 "nbformat": 4,
 "nbformat_minor": 0
}
