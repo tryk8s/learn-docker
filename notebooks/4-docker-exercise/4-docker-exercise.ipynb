{
 "cells": [
  {
   "cell_type": "markdown",
   "metadata": {},
   "source": [
    "# Docker练习\n",
    "\n",
    "通过前面3个案例，我们基本掌握了Docker的基础概念和常用操作，接下来让我们在实战当中检验一下刚才学到的知识。\n",
    "\n",
    "## 目标\n",
    "\n",
    "请将 [sample_app_rails_4](https://github.com/railstutorial/sample_app_rails_4) 这个简单的Rails项目打包成Docker镜像，并运行在Docker环境中，对外提供服务。\n",
    "\n",
    "最终以是否能够在浏览器当中打开网站页面来判定练习结果。\n",
    "\n",
    "## 相关信息\n",
    "\n",
    "- 在本地生成的镜像请推送到镜像仓库，再从镜像仓库拉取。模拟分布式集群环境。镜像仓库地址为：`localhost:5000`\n",
    "- 运行镜像时，请使用 `-p 30080:YOUR_PORT` 将端口映射到主机上，这样可以在浏览器当中使用 `http://YOUR_IP:30080` 访问目标网站\n",
    "\n",
    "## Bonus\n",
    "\n",
    "- Fork目标Repo，将你创建的`Dockerfile`加入Repo当中，与其他同学分享你的镜像创建思路\n",
    "- [Docker Hub](https://hub.docker.com/) 提供免费的镜像自动创建服务，试着把你的Repo与Docker Hub连接，在Push代码时自动创建镜像\n",
    "- 参照之前的案例，在Notebook中记录完成的打包与运行流程"
   ]
  }
 ],
 "metadata": {
  "kernelspec": {
   "display_name": "Python 3",
   "language": "python",
   "name": "python3"
  },
  "language_info": {
   "codemirror_mode": {
    "name": "ipython",
    "version": 3
   },
   "file_extension": ".py",
   "mimetype": "text/x-python",
   "name": "python",
   "nbconvert_exporter": "python",
   "pygments_lexer": "ipython3",
   "version": "3.4.3"
  }
 },
 "nbformat": 4,
 "nbformat_minor": 0
}
